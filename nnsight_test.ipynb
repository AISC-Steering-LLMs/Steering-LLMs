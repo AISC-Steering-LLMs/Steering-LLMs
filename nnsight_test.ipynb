{
 "cells": [
  {
   "cell_type": "code",
   "execution_count": 1,
   "metadata": {},
   "outputs": [],
   "source": [
    "from nnsight import LanguageModel\n",
    "from typing import List, Callable\n",
    "import torch\n",
    "import matplotlib.pyplot as plt\n",
    "import seaborn as sns\n",
    "import numpy as np\n",
    "from IPython.display import clear_output\n",
    "\n",
    "clear_output()"
   ]
  },
  {
   "cell_type": "code",
   "execution_count": 2,
   "metadata": {},
   "outputs": [
    {
     "data": {
      "application/vnd.jupyter.widget-view+json": {
       "model_id": "e3588a79e0b346f38c38b46d27fa854a",
       "version_major": 2,
       "version_minor": 0
      },
      "text/plain": [
       "tokenizer_config.json:   0%|          | 0.00/26.0 [00:00<?, ?B/s]"
      ]
     },
     "metadata": {},
     "output_type": "display_data"
    }
   ],
   "source": [
    "# Load gpt2\n",
    "\n",
    "model = LanguageModel(\"openai-community/gpt2\", device_map=\"auto\", dispatch=True)"
   ]
  },
  {
   "cell_type": "code",
   "execution_count": 3,
   "metadata": {},
   "outputs": [
    {
     "name": "stdout",
     "output_type": "stream",
     "text": [
      "GPT2LMHeadModel(\n",
      "  (transformer): GPT2Model(\n",
      "    (wte): Embedding(50257, 768)\n",
      "    (wpe): Embedding(1024, 768)\n",
      "    (drop): Dropout(p=0.1, inplace=False)\n",
      "    (h): ModuleList(\n",
      "      (0-11): 12 x GPT2Block(\n",
      "        (ln_1): LayerNorm((768,), eps=1e-05, elementwise_affine=True)\n",
      "        (attn): GPT2Attention(\n",
      "          (c_attn): Conv1D()\n",
      "          (c_proj): Conv1D()\n",
      "          (attn_dropout): Dropout(p=0.1, inplace=False)\n",
      "          (resid_dropout): Dropout(p=0.1, inplace=False)\n",
      "        )\n",
      "        (ln_2): LayerNorm((768,), eps=1e-05, elementwise_affine=True)\n",
      "        (mlp): GPT2MLP(\n",
      "          (c_fc): Conv1D()\n",
      "          (c_proj): Conv1D()\n",
      "          (act): NewGELUActivation()\n",
      "          (dropout): Dropout(p=0.1, inplace=False)\n",
      "        )\n",
      "      )\n",
      "    )\n",
      "    (ln_f): LayerNorm((768,), eps=1e-05, elementwise_affine=True)\n",
      "  )\n",
      "  (lm_head): Linear(in_features=768, out_features=50257, bias=False)\n",
      "  (generator): WrapperModule()\n",
      ")\n"
     ]
    }
   ],
   "source": [
    "print(model)"
   ]
  },
  {
   "cell_type": "code",
   "execution_count": 8,
   "metadata": {},
   "outputs": [
    {
     "name": "stdout",
     "output_type": "stream",
     "text": [
      "torch.Size([1, 18, 768])\n",
      "torch.Size([1, 18, 768])\n",
      "torch.Size([1, 18, 768])\n",
      "torch.Size([1, 18, 768])\n",
      "torch.Size([1, 18, 768])\n",
      "torch.Size([1, 18, 768])\n",
      "torch.Size([1, 18, 768])\n",
      "torch.Size([1, 18, 768])\n",
      "torch.Size([1, 18, 768])\n",
      "torch.Size([1, 18, 768])\n",
      "torch.Size([1, 18, 768])\n",
      "torch.Size([1, 18, 768])\n",
      "Original token IDs: tensor([[ 198,    1,    1,    1,    1,    1,    1,    1,  464,  412,  733,  417,\n",
      "          417,  271,  287,  262, 1748,  262]], device='cuda:0')\n",
      "Intervention token IDs: tensor([[  262,    12,   417,  8765,    11,   257,   262,  3504,   338,  3576,\n",
      "          2528,   287,   257,   621,   517, 18028,   284,   284]],\n",
      "       device='cuda:0')\n",
      "Original prediction:  the\n",
      "Intervention prediction:  to\n"
     ]
    }
   ],
   "source": [
    "with model.trace() as tracer:\n",
    "\n",
    "    with tracer.invoke(\"The Eiffel Tower is in the city of we are adding more and more tokens here\"):\n",
    "\n",
    "        # Ablate the last MLP for only this batch.\n",
    "        for layer in model.transformer.h:\n",
    "            print(layer.mlp.output.shape)\n",
    "        model.transformer.h[-1].mlp.output[0][:] = 0\n",
    "\n",
    "        # Get the output for only the intervened on batch.\n",
    "        token_ids_intervention = model.lm_head.output.argmax(dim=-1).save()\n",
    "\n",
    "    with tracer.invoke(\"The Eiffel Tower is in the city of\"):\n",
    "\n",
    "        # Get the output for only the original batch.\n",
    "        token_ids_original = model.lm_head.output.argmax(dim=-1).save()\n",
    "\n",
    "print(\"Original token IDs:\", token_ids_original)\n",
    "print(\"Intervention token IDs:\", token_ids_intervention)\n",
    "\n",
    "print(\"Original prediction:\", model.tokenizer.decode(token_ids_original[0][-1]))\n",
    "print(\"Intervention prediction:\", model.tokenizer.decode(token_ids_intervention[0][-1]))"
   ]
  }
 ],
 "metadata": {
  "kernelspec": {
   "display_name": ".venv",
   "language": "python",
   "name": "python3"
  },
  "language_info": {
   "codemirror_mode": {
    "name": "ipython",
    "version": 3
   },
   "file_extension": ".py",
   "mimetype": "text/x-python",
   "name": "python",
   "nbconvert_exporter": "python",
   "pygments_lexer": "ipython3",
   "version": "3.11.8"
  }
 },
 "nbformat": 4,
 "nbformat_minor": 2
}
