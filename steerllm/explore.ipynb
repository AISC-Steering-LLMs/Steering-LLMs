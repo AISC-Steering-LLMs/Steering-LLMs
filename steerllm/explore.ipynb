{
 "cells": [
  {
   "cell_type": "markdown",
   "metadata": {},
   "source": [
    "# Setup (just run)"
   ]
  },
  {
   "cell_type": "code",
   "execution_count": 1,
   "metadata": {},
   "outputs": [],
   "source": [
    "# Colab-specific setup\n",
    "\n",
    "# !git clone https://github.com/AISC-Steering-LLMs/Steering-LLMs\n",
    "# !pwd\n",
    "# repo_path = '/content/repository/'\n"
   ]
  },
  {
   "cell_type": "code",
   "execution_count": 11,
   "metadata": {},
   "outputs": [],
   "source": [
    "# Imports\n",
    "import os\n",
    "import pandas as pd\n",
    "import main\n",
    "from omegaconf import DictConfig, OmegaConf\n",
    "import yaml\n",
    "from hydra import initialize\n",
    "from hydra.core.global_hydra import GlobalHydra\n",
    "from hydra import compose\n",
    "import ipywidgets as widgets\n",
    "from IPython.display import display\n",
    "\n",
    "from data_handler import DataHandler\n",
    "from data_analyser import DataAnalyzer\n",
    "from model_handler import ModelHandler\n",
    "\n",
    "from sklearn.manifold import TSNE\n",
    "from sklearn.decomposition import PCA\n",
    "from sklearn.cluster import FeatureAgglomeration"
   ]
  },
  {
   "cell_type": "code",
   "execution_count": 2,
   "metadata": {},
   "outputs": [
    {
     "name": "stderr",
     "output_type": "stream",
     "text": [
      "/tmp/ipykernel_18980/571087763.py:3: UserWarning: \n",
      "The version_base parameter is not specified.\n",
      "Please specify a compatability version level, or None.\n",
      "Will assume defaults for version 1.1\n",
      "  initialize(config_path=\".\", job_name=\"experiment\")\n"
     ]
    },
    {
     "data": {
      "text/plain": [
       "hydra.initialize()"
      ]
     },
     "execution_count": 2,
     "metadata": {},
     "output_type": "execute_result"
    }
   ],
   "source": [
    "# Initialize Hydra for configuration management\n",
    "GlobalHydra.instance().clear()  # Clear any previous Hydra instance\n",
    "initialize(config_path=\".\", job_name=\"experiment\")\n"
   ]
  },
  {
   "cell_type": "markdown",
   "metadata": {},
   "source": [
    "## Helper Functions"
   ]
  },
  {
   "cell_type": "code",
   "execution_count": 3,
   "metadata": {},
   "outputs": [],
   "source": [
    "def load_yaml_config(file_path):\n",
    "    \"\"\"Load a YAML configuration file.\"\"\"\n",
    "    with open(file_path, 'r') as file:\n",
    "        return yaml.safe_load(file)\n",
    "    \n",
    "def create_form(config):\n",
    "    \"\"\"Create an interactive form for updating the configuration file.\"\"\"\n",
    "    form_items = []\n",
    "    for key, value in config.items():\n",
    "        # Choose the right widget based on the value's type\n",
    "        widget_type = widgets.Checkbox if isinstance(value, bool) else widgets.IntText if isinstance(value, int) else widgets.FloatText if isinstance(value, float) else widgets.Text\n",
    "        widget = widget_type(value=value, description=key)\n",
    "        widget.layout = widgets.Layout(width='100%')\n",
    "        widget.style.description_width='initial'\n",
    "        form_items.append(widget)\n",
    "    return widgets.VBox(form_items)\n",
    "\n",
    "def update_config_and_save(btn, form):\n",
    "    \"\"\"Update the configuration file with values from the form.\"\"\"\n",
    "    updated_config = {widget.description: widget.value for widget in form.children}\n",
    "    with open('config.yaml', 'w') as file:\n",
    "        yaml.safe_dump(updated_config, file)\n",
    "    print(\"Configuration updated and saved.\")\n"
   ]
  },
  {
   "cell_type": "markdown",
   "metadata": {},
   "source": [
    "# Experiment Setup"
   ]
  },
  {
   "cell_type": "markdown",
   "metadata": {},
   "source": [
    "## Load existing configuration and edit if needed"
   ]
  },
  {
   "cell_type": "code",
   "execution_count": 4,
   "metadata": {},
   "outputs": [
    {
     "data": {
      "application/vnd.jupyter.widget-view+json": {
       "model_id": "ec0abdd03f5b4d45bcfac8782205d0ba",
       "version_major": 2,
       "version_minor": 0
      },
      "text/plain": [
       "VBox(children=(Text(value='gpt2-small', description='model_name', layout=Layout(width='100%'), style=TextStyle…"
      ]
     },
     "metadata": {},
     "output_type": "display_data"
    },
    {
     "data": {
      "application/vnd.jupyter.widget-view+json": {
       "model_id": "a4ea54a3f75c4e0391f2c24c937a900b",
       "version_major": 2,
       "version_minor": 0
      },
      "text/plain": [
       "Button(description='Save Configuration', style=ButtonStyle())"
      ]
     },
     "metadata": {},
     "output_type": "display_data"
    }
   ],
   "source": [
    "# Load configuration and create interactive form\n",
    "config = load_yaml_config('config.yaml')\n",
    "form = create_form(config)\n",
    "display(form)\n",
    "\n",
    "# Create a button to save the configuration, pass the form to the event handler\n",
    "save_button = widgets.Button(description=\"Save Configuration\")\n",
    "save_button.on_click(lambda btn: update_config_and_save(btn, form))\n",
    "display(save_button)"
   ]
  },
  {
   "cell_type": "code",
   "execution_count": 6,
   "metadata": {},
   "outputs": [
    {
     "name": "stdout",
     "output_type": "stream",
     "text": [
      "Loaded pretrained model gpt2-small into HookedTransformer\n"
     ]
    }
   ],
   "source": [
    "# Compose the final configuration from Hydra\n",
    "cfg = compose(config_name=\"config\")\n",
    "\n",
    "# Instantiate classes DataHandler and ModelHandler\n",
    "data_handler = DataHandler(\"../data\")\n",
    "model_handler = ModelHandler(cfg)\n",
    "\n",
    "# Load inputs and create output directories\n",
    "prompts_dict = data_handler.csv_to_dictionary(cfg.prompts_sheet)\n",
    "experiment_base_dir, images_dir, metrics_dir = data_handler.create_output_directories()\n",
    "\n",
    "# Save configurations and prompts\n",
    "data_handler.write_experiment_parameters(cfg, prompts_dict, experiment_base_dir)\n"
   ]
  },
  {
   "cell_type": "markdown",
   "metadata": {},
   "source": [
    "## Model Initialization and Data Processing"
   ]
  },
  {
   "cell_type": "code",
   "execution_count": 8,
   "metadata": {},
   "outputs": [
    {
     "name": "stderr",
     "output_type": "stream",
     "text": [
      "Computing activations: 100%|██████████| 160/160 [00:10<00:00, 15.14it/s]\n"
     ]
    }
   ],
   "source": [
    "# Initialize the model and populate the data\n",
    "activations_cache = data_handler.populate_data(prompts_dict)\n",
    "\n",
    "# Compute activations and add hidden states\n",
    "model_handler.compute_activations(activations_cache)"
   ]
  },
  {
   "cell_type": "markdown",
   "metadata": {},
   "source": [
    "## Visualization"
   ]
  },
  {
   "cell_type": "code",
   "execution_count": 12,
   "metadata": {},
   "outputs": [
    {
     "name": "stderr",
     "output_type": "stream",
     "text": [
      "TSNE: 100%|██████████| 12/12 [00:05<00:00,  2.00it/s]\n",
      "PCA: 100%|██████████| 12/12 [00:02<00:00,  5.79it/s]\n",
      "FeatureAgglomeration: 100%|██████████| 12/12 [00:01<00:00,  6.07it/s]\n",
      "Computing Raster Plots: 100%|██████████| 12/12 [00:46<00:00,  3.86s/it]\n",
      "Random projections analysis: 100%|██████████| 12/12 [00:00<00:00, 925.30it/s]\n",
      "Probing hidden states: 100%|██████████| 12/12 [00:02<00:00,  4.82it/s]\n",
      "Computing logistic_regression: 100%|██████████| 12/12 [00:04<00:00,  2.98it/s]\n",
      "Computing decision_tree: 100%|██████████| 12/12 [00:01<00:00,  9.26it/s]\n",
      "Computing random_forest: 100%|██████████| 12/12 [00:02<00:00,  4.38it/s]\n",
      "Computing svc: 100%|██████████| 12/12 [00:02<00:00,  4.12it/s]\n",
      "Computing knn: 100%|██████████| 12/12 [00:01<00:00,  6.68it/s]\n",
      "Computing gradient_boosting: 100%|██████████| 12/12 [00:03<00:00,  3.06it/s]\n"
     ]
    }
   ],
   "source": [
    "data_analyzer = DataAnalyzer(images_dir, metrics_dir, 42)\n",
    "\n",
    "# Get various representations for each layer\n",
    "# and plot them\n",
    "tsne_model = TSNE(n_components=2, random_state=42)\n",
    "tsne_embedded_data_dict, tsne_labels, tsne_prompts = data_analyzer.plot_embeddings(activations_cache, tsne_model)\n",
    "pca_model = PCA(n_components=2, random_state=42)\n",
    "pca_embedded_data_dict, pca_labels, pca_prompts = data_analyzer.plot_embeddings(activations_cache, pca_model)\n",
    "fa_model = FeatureAgglomeration(n_clusters=2)\n",
    "fa_embedded_data_dict, fa_labels, fa_prompts = data_analyzer.plot_embeddings(activations_cache, fa_model)\n",
    "\n",
    "# Further analysis\n",
    "data_analyzer.raster_plot(activations_cache)\n",
    "data_analyzer.random_projections_analysis(activations_cache)\n",
    "data_analyzer.probe_hidden_states(activations_cache)\n",
    "\n",
    "# See if the representations can be used to classify the ethical area\n",
    "# Why are we actually doing this? Hypothesis - better seperation of ethical areas\n",
    "# Leads to better steering vectors. This actually needs to be tested.\n",
    "# Only done with the t-SNE representation but could be done with others (PCA, heirarchical clustering, etc.)\n",
    "data_analyzer.classifier_battery(tsne_embedded_data_dict, tsne_labels, tsne_prompts, 0.2)"
   ]
  },
  {
   "cell_type": "markdown",
   "metadata": {},
   "source": [
    "## Save Results"
   ]
  },
  {
   "cell_type": "code",
   "execution_count": 13,
   "metadata": {},
   "outputs": [],
   "source": [
    "# Save the activations cache if required by the configuration\n",
    "if cfg.write_cache:\n",
    "    model_handler.save_activations_cache(activations_cache, experiment_base_dir)"
   ]
  },
  {
   "cell_type": "markdown",
   "metadata": {},
   "source": []
  }
 ],
 "metadata": {
  "kernelspec": {
   "display_name": "venv",
   "language": "python",
   "name": "python3"
  },
  "language_info": {
   "codemirror_mode": {
    "name": "ipython",
    "version": 3
   },
   "file_extension": ".py",
   "mimetype": "text/x-python",
   "name": "python",
   "nbconvert_exporter": "python",
   "pygments_lexer": "ipython3",
   "version": "3.10.12"
  }
 },
 "nbformat": 4,
 "nbformat_minor": 2
}
