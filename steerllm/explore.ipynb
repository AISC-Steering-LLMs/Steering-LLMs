{
 "cells": [
  {
   "cell_type": "markdown",
   "metadata": {},
   "source": [
    "# Setup (just run)"
   ]
  },
  {
   "cell_type": "code",
   "execution_count": 1,
   "metadata": {},
   "outputs": [],
   "source": [
    "# Colab-specific setup\n",
    "\n",
    "# !git clone https://github.com/AISC-Steering-LLMs/Steering-LLMs\n",
    "# !pwd\n",
    "# repo_path = '/content/repository/'\n"
   ]
  },
  {
   "cell_type": "code",
   "execution_count": 2,
   "metadata": {},
   "outputs": [
    {
     "name": "stderr",
     "output_type": "stream",
     "text": [
      "/home/aayushkucheria/Documents/Steering-LLMs/venv/lib/python3.10/site-packages/torch/cuda/__init__.py:611: UserWarning: Can't initialize NVML\n",
      "  warnings.warn(\"Can't initialize NVML\")\n",
      "/home/aayushkucheria/Documents/Steering-LLMs/venv/lib/python3.10/site-packages/torch/cuda/__init__.py:740: UserWarning: CUDA initialization: The NVIDIA driver on your system is too old (found version 11070). Please update your GPU driver by downloading and installing a new version from the URL: http://www.nvidia.com/Download/index.aspx Alternatively, go to: https://pytorch.org to install a PyTorch version that has been compiled with your version of the CUDA driver. (Triggered internally at ../c10/cuda/CUDAFunctions.cpp:108.)\n",
      "  return torch._C._cuda_getDeviceCount() if nvml_count < 0 else nvml_count\n"
     ]
    }
   ],
   "source": [
    "# Imports\n",
    "\n",
    "import os\n",
    "import pandas as pd\n",
    "import main\n",
    "from omegaconf import DictConfig, OmegaConf\n",
    "import yaml\n",
    "from hydra import initialize\n",
    "from hydra.core.global_hydra import GlobalHydra\n",
    "from hydra import compose\n",
    "import ipywidgets as widgets\n",
    "from IPython.display import display\n",
    "from ipywidgets import widgets, Layout, Box, VBox, Label\n",
    "\n",
    "from data_handler import DataHandler\n",
    "from data_analyser import DataAnalyzer\n",
    "from model_handler import ModelHandler\n",
    "\n",
    "from sklearn.manifold import TSNE\n",
    "from sklearn.decomposition import PCA\n",
    "from sklearn.cluster import FeatureAgglomeration"
   ]
  },
  {
   "cell_type": "code",
   "execution_count": 3,
   "metadata": {},
   "outputs": [
    {
     "name": "stderr",
     "output_type": "stream",
     "text": [
      "/tmp/ipykernel_462972/571087763.py:3: UserWarning: \n",
      "The version_base parameter is not specified.\n",
      "Please specify a compatability version level, or None.\n",
      "Will assume defaults for version 1.1\n",
      "  initialize(config_path=\".\", job_name=\"experiment\")\n"
     ]
    },
    {
     "data": {
      "text/plain": [
       "hydra.initialize()"
      ]
     },
     "execution_count": 3,
     "metadata": {},
     "output_type": "execute_result"
    }
   ],
   "source": [
    "# Initialize Hydra for configuration management\n",
    "GlobalHydra.instance().clear()  # Clear any previous Hydra instance\n",
    "initialize(config_path=\".\", job_name=\"experiment\")\n"
   ]
  },
  {
   "cell_type": "markdown",
   "metadata": {},
   "source": [
    "## Helper Functions"
   ]
  },
  {
   "cell_type": "code",
   "execution_count": 4,
   "metadata": {},
   "outputs": [],
   "source": [
    "# Constants for styles\n",
    "widget_layout = Layout(width='100%')\n",
    "description_style = {'description_width': 'initial'}\n",
    "BASE_PATH = '../data/inputs/' \n",
    "\n",
    "\n",
    "def load_yaml_config(file_path):\n",
    "    \"\"\"Load a YAML configuration file.\"\"\"\n",
    "    with open(file_path, 'r') as file:\n",
    "        return yaml.safe_load(file)\n",
    "    \n",
    "def create_section_heading(title):\n",
    "    \"\"\"Create a section heading for the form.\"\"\"\n",
    "    return widgets.Label(value=title, layout=widgets.Layout(height='45px', align_items='center', justify_content='center'))\n",
    "    \n",
    "def create_form(config):\n",
    "    \"\"\"Create an interactive form for updating the configuration file.\"\"\"\n",
    "    form_items = []\n",
    "    # Define the options for the dropdown\n",
    "    model_options = ['gpt2-small', 'gpt2-medium', 'gpt2-large', 'gpt2-XL', 'llama']\n",
    "\n",
    "    # Data Section\n",
    "    form_items.append(create_section_heading('Data Settings'))\n",
    "    base_path_display = widgets.Text(\n",
    "        value=BASE_PATH,\n",
    "        description='Input files located at:',\n",
    "        disabled=True,\n",
    "        layout=widget_layout,\n",
    "        style=description_style\n",
    "    )\n",
    "    form_items.append(base_path_display)\n",
    "    form_items.append(widgets.Text(\n",
    "        value=config.get('prompts_sheet', ''), \n",
    "        description='prompts_sheet',\n",
    "        placeholder='Enter the filename of the dataset including its extension (e.g., .csv or .xlsx).',\n",
    "        layout=widget_layout,\n",
    "        style=description_style\n",
    "    ))\n",
    "    \n",
    "    # Model Section\n",
    "    form_items.append(create_section_heading('Model Configuration'))\n",
    "    form_items.append(widgets.Dropdown(\n",
    "        options=model_options,\n",
    "        value=config.get('model_name', 'gpt2-small'),\n",
    "        description='model_name',\n",
    "        tooltip='Select the language model you want to use.',\n",
    "        layout=widget_layout,\n",
    "        style=description_style\n",
    "    ))\n",
    "\n",
    "    # Execution Section\n",
    "    form_items.append(create_section_heading('Execution Settings'))\n",
    "    form_items.append(widgets.Checkbox(\n",
    "        value=config.get('use_gpu', False),\n",
    "        description='use_gpu',\n",
    "        tooltip='Check this box to use GPU for computation if available.',\n",
    "    ))\n",
    "    form_items.append(widgets.Checkbox(\n",
    "        value=config.get('write_cache', False),\n",
    "        description='write_cache',\n",
    "        tooltip='Check this box to write intermediate computations to disk.',\n",
    "    ))\n",
    "    form_items.append(widgets.Textarea(\n",
    "        value=config.get('experiment_notes', ''),\n",
    "        placeholder='Enter any notes for the experiment here.',\n",
    "        description='experiment_notes',\n",
    "        layout=widget_layout,\n",
    "        style=description_style\n",
    "    ))\n",
    "\n",
    "    return widgets.VBox(form_items)\n",
    "    \n",
    "\n",
    "\n",
    "def update_config_and_save(btn, form):\n",
    "    \"\"\"Update the configuration file with values from the form.\"\"\"\n",
    "    updated_config = {}\n",
    "    for widget in form.children:\n",
    "        # Skip over any non-input widgets like Labels or disabled Text widgets\n",
    "        if isinstance(widget, widgets.Label) or (isinstance(widget, widgets.Text) and widget.disabled):\n",
    "            continue\n",
    "        if isinstance(widget, widgets.Text) and widget.description == 'prompts_sheet':\n",
    "            # Concatenate the base path with the provided filename\n",
    "            updated_config[widget.description] = widget.value\n",
    "        elif isinstance(widget, (widgets.Text, widgets.Textarea, widgets.Dropdown, widgets.Checkbox)):\n",
    "            # Make sure to capture only the widgets that should contribute to the configuration\n",
    "            updated_config[widget.description] = widget.value\n",
    "    \n",
    "    # Use the filtered updated_config to write to the yaml file\n",
    "    with open('config.yaml', 'w') as file:\n",
    "        yaml.safe_dump(updated_config, file)\n",
    "    print(\"Configuration updated and saved.\")\n",
    "\n",
    "\n",
    "\n",
    "\n"
   ]
  },
  {
   "cell_type": "markdown",
   "metadata": {},
   "source": [
    "# Experiment Setup"
   ]
  },
  {
   "cell_type": "markdown",
   "metadata": {},
   "source": [
    "## Load existing configuration and edit if needed"
   ]
  },
  {
   "cell_type": "code",
   "execution_count": 5,
   "metadata": {},
   "outputs": [
    {
     "data": {
      "application/vnd.jupyter.widget-view+json": {
       "model_id": "052dd67a1b3940d5b27e641a97c17d0f",
       "version_major": 2,
       "version_minor": 0
      },
      "text/plain": [
       "VBox(children=(Label(value='Data Settings', layout=Layout(align_items='center', height='45px', justify_content…"
      ]
     },
     "metadata": {},
     "output_type": "display_data"
    },
    {
     "data": {
      "application/vnd.jupyter.widget-view+json": {
       "model_id": "f8ffafcccce14c6582b474a14a815b20",
       "version_major": 2,
       "version_minor": 0
      },
      "text/plain": [
       "Button(button_style='success', description='Save Configuration', layout=Layout(margin='10px 0', width='auto'),…"
      ]
     },
     "metadata": {},
     "output_type": "display_data"
    },
    {
     "name": "stdout",
     "output_type": "stream",
     "text": [
      "Configuration updated and saved.\n"
     ]
    }
   ],
   "source": [
    "# Load configuration and create interactive form\n",
    "config = load_yaml_config('config.yaml')\n",
    "form = create_form(config)\n",
    "display(form)\n",
    "\n",
    "# Create a button to save the configuration, pass the form to the event handler\n",
    "save_button = widgets.Button(\n",
    "        description=\"Save Configuration\",\n",
    "        button_style='success',  # Use 'success' styling for a green color\n",
    "        tooltip='Click to save the configuration',\n",
    "        layout=widgets.Layout(width='auto', margin='10px 0'))\n",
    "save_button.on_click(lambda btn: update_config_and_save(btn, form))\n",
    "display(save_button)"
   ]
  },
  {
   "cell_type": "code",
   "execution_count": 6,
   "metadata": {},
   "outputs": [
    {
     "name": "stdout",
     "output_type": "stream",
     "text": [
      "Loaded pretrained model gpt2-small into HookedTransformer\n"
     ]
    }
   ],
   "source": [
    "# Compose the final configuration from Hydra\n",
    "cfg = compose(config_name=\"config\")\n",
    "\n",
    "# Instantiate classes DataHandler and ModelHandler\n",
    "data_handler = DataHandler(\"../data\")\n",
    "model_handler = ModelHandler(cfg)\n",
    "\n",
    "# Load inputs and create output directories\n",
    "prompts_dict = data_handler.csv_to_dictionary(cfg.prompts_sheet)\n",
    "experiment_base_dir, images_dir, metrics_dir = data_handler.create_output_directories()\n",
    "\n",
    "# Save configurations and prompts\n",
    "data_handler.write_experiment_parameters(cfg, prompts_dict, experiment_base_dir)\n"
   ]
  },
  {
   "cell_type": "markdown",
   "metadata": {},
   "source": [
    "## Model Initialization and Data Processing"
   ]
  },
  {
   "cell_type": "code",
   "execution_count": 7,
   "metadata": {},
   "outputs": [
    {
     "name": "stderr",
     "output_type": "stream",
     "text": [
      "Computing activations: 100%|██████████| 160/160 [00:09<00:00, 16.06it/s]\n"
     ]
    }
   ],
   "source": [
    "# Initialize the model and populate the data\n",
    "activations_cache = data_handler.populate_data(prompts_dict)\n",
    "\n",
    "# Compute activations and add hidden states\n",
    "model_handler.compute_activations(activations_cache)"
   ]
  },
  {
   "cell_type": "markdown",
   "metadata": {},
   "source": [
    "## Visualization"
   ]
  },
  {
   "cell_type": "code",
   "execution_count": 8,
   "metadata": {},
   "outputs": [],
   "source": [
    "data_analyzer = DataAnalyzer(images_dir, metrics_dir, 42)\n",
    "\n",
    "# Create checkboxes for each visualization type\n",
    "tsne_checkbox = widgets.Checkbox(value=False, description='t-SNE Plot')\n",
    "pca_checkbox = widgets.Checkbox(value=False, description='PCA Plot')\n",
    "fa_checkbox = widgets.Checkbox(value=False, description='Feature Agglomeration')\n",
    "raster_checkbox = widgets.Checkbox(value=False, description='Raster Plot')\n",
    "random_proj_checkbox = widgets.Checkbox(value=False, description='Random Projections Analysis')\n",
    "probe_hidden_states_checkbox = widgets.Checkbox(value=False, description='Probe Hidden States')\n",
    "classifier_battery_checkbox = widgets.Checkbox(value=False, description='Classifier Battery (needs t-SNE)')\n",
    "\n",
    "# Event handler for the button click\n",
    "def on_run_button_clicked(b):\n",
    "    # Clear previous output\n",
    "    # clear_output(wait=True)\n",
    "    \n",
    "    if tsne_checkbox.value:\n",
    "        # Run t-SNE plot\n",
    "        tsne_model = TSNE(n_components=2, random_state=42)\n",
    "        tsne_embedded_data_dict, tsne_labels, tsne_prompts = data_analyzer.plot_embeddings(activations_cache, tsne_model)\n",
    "    \n",
    "    if pca_checkbox.value:\n",
    "        # Run PCA plot\n",
    "        pca_model = PCA(n_components=2, random_state=42)\n",
    "        pca_embedded_data_dict, pca_labels, pca_prompts = data_analyzer.plot_embeddings(activations_cache, pca_model)\n",
    "    \n",
    "    if fa_checkbox.value:\n",
    "        # Run Feature Agglomeration\n",
    "        fa_model = FeatureAgglomeration(n_clusters=2)\n",
    "        fa_embedded_data_dict, fa_labels, fa_prompts = data_analyzer.plot_embeddings(activations_cache, fa_model)\n",
    "    \n",
    "    if raster_checkbox.value:\n",
    "        # Run Raster plot\n",
    "        data_analyzer.raster_plot(activations_cache)\n",
    "    \n",
    "    if random_proj_checkbox.value:\n",
    "        # Run Random Projections Analysis\n",
    "        data_analyzer.random_projections_analysis(activations_cache)\n",
    "    \n",
    "    if probe_hidden_states_checkbox.value:\n",
    "        # Run Probe Hidden States\n",
    "        data_analyzer.probe_hidden_states(activations_cache)\n",
    "    \n",
    "    if classifier_battery_checkbox.value:\n",
    "        # Run Classifier Battery\n",
    "        data_analyzer.classifier_battery(tsne_embedded_data_dict, tsne_labels, tsne_prompts, 0.2)\n",
    "    \n",
    "    print(\"Selected visualizations have been executed.\")"
   ]
  },
  {
   "cell_type": "code",
   "execution_count": null,
   "metadata": {},
   "outputs": [
    {
     "data": {
      "application/vnd.jupyter.widget-view+json": {
       "model_id": "441670145ff24f36a460ad927d43718f",
       "version_major": 2,
       "version_minor": 0
      },
      "text/plain": [
       "VBox(children=(Checkbox(value=False, description='t-SNE Plot'), Checkbox(value=False, description='PCA Plot'),…"
      ]
     },
     "metadata": {},
     "output_type": "display_data"
    },
    {
     "name": "stderr",
     "output_type": "stream",
     "text": [
      "TSNE: 100%|██████████| 12/12 [00:06<00:00,  1.72it/s]\n",
      "Computing logistic_regression: 100%|██████████| 12/12 [00:05<00:00,  2.25it/s]\n",
      "Computing decision_tree: 100%|██████████| 12/12 [00:01<00:00,  6.57it/s]\n",
      "Computing random_forest: 100%|██████████| 12/12 [00:04<00:00,  2.72it/s]\n",
      "Computing svc: 100%|██████████| 12/12 [00:03<00:00,  3.10it/s]\n",
      "Computing knn: 100%|██████████| 12/12 [00:02<00:00,  5.27it/s]\n",
      "Computing gradient_boosting: 100%|██████████| 12/12 [00:04<00:00,  2.71it/s]"
     ]
    },
    {
     "name": "stdout",
     "output_type": "stream",
     "text": [
      "Selected visualizations have been executed.\n"
     ]
    },
    {
     "name": "stderr",
     "output_type": "stream",
     "text": [
      "\n",
      "PCA: 100%|██████████| 12/12 [00:02<00:00,  4.47it/s]"
     ]
    },
    {
     "name": "stdout",
     "output_type": "stream",
     "text": [
      "Selected visualizations have been executed.\n"
     ]
    },
    {
     "name": "stderr",
     "output_type": "stream",
     "text": [
      "\n",
      "Computing Raster Plots: 100%|██████████| 12/12 [01:21<00:00,  6.75s/it]"
     ]
    },
    {
     "name": "stdout",
     "output_type": "stream",
     "text": [
      "Selected visualizations have been executed.\n"
     ]
    },
    {
     "name": "stderr",
     "output_type": "stream",
     "text": [
      "\n",
      "Random projections analysis: 100%|██████████| 12/12 [00:00<00:00, 392.72it/s]"
     ]
    },
    {
     "name": "stdout",
     "output_type": "stream",
     "text": [
      "Selected visualizations have been executed.\n"
     ]
    },
    {
     "name": "stderr",
     "output_type": "stream",
     "text": [
      "\n",
      "Probing hidden states: 100%|██████████| 12/12 [00:03<00:00,  3.66it/s]"
     ]
    },
    {
     "name": "stdout",
     "output_type": "stream",
     "text": [
      "Selected visualizations have been executed.\n"
     ]
    },
    {
     "name": "stderr",
     "output_type": "stream",
     "text": [
      "\n"
     ]
    }
   ],
   "source": [
    "# Create a button to run the selected visualizations\n",
    "run_button = widgets.Button(description=\"Run Visualizations\")\n",
    "# Assign the event handler to the button\n",
    "run_button.on_click(on_run_button_clicked)\n",
    "\n",
    "# Display the checkboxes and the button\n",
    "checkboxes = widgets.VBox([tsne_checkbox, pca_checkbox, fa_checkbox, raster_checkbox,\n",
    "                           random_proj_checkbox, probe_hidden_states_checkbox, classifier_battery_checkbox, run_button])\n",
    "display(checkboxes)"
   ]
  },
  {
   "cell_type": "markdown",
   "metadata": {},
   "source": [
    "## Save Results"
   ]
  },
  {
   "cell_type": "code",
   "execution_count": 13,
   "metadata": {},
   "outputs": [],
   "source": [
    "# Save the activations cache if required by the configuration\n",
    "if cfg.write_cache:\n",
    "    model_handler.save_activations_cache(activations_cache, experiment_base_dir)"
   ]
  },
  {
   "cell_type": "markdown",
   "metadata": {},
   "source": []
  }
 ],
 "metadata": {
  "kernelspec": {
   "display_name": "venv",
   "language": "python",
   "name": "python3"
  },
  "language_info": {
   "codemirror_mode": {
    "name": "ipython",
    "version": 3
   },
   "file_extension": ".py",
   "mimetype": "text/x-python",
   "name": "python",
   "nbconvert_exporter": "python",
   "pygments_lexer": "ipython3",
   "version": "3.10.12"
  }
 },
 "nbformat": 4,
 "nbformat_minor": 2
}
